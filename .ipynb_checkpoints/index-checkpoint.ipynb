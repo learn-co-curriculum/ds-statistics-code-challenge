{
 "cells": [
  {
   "cell_type": "markdown",
   "metadata": {},
   "source": [
    "# In the bank\n",
    "A bank has a new campaign for clients to sign up for it's new platinum account.  \n",
    "\n",
    "The probability that a customer offered an account signs up for a platinum account is .2, that is $p(signup) = .2$.\n",
    "\n",
    "On day one, twenty customers walk into the bank that day and each are offered to signup for a platinum account."
   ]
  },
  {
   "cell_type": "markdown",
   "metadata": {},
   "source": [
    "* What is the expected number of signups for the platinum account on day 1?"
   ]
  },
  {
   "cell_type": "markdown",
   "metadata": {},
   "source": [
    "> $ E[x] = n*p = .2*20 = 4$"
   ]
  },
  {
   "cell_type": "markdown",
   "metadata": {},
   "source": [
    "What is the probability that there are exactly six of the twenty customers signup for a platinum account? "
   ]
  },
  {
   "cell_type": "markdown",
   "metadata": {},
   "source": [
    "$p(i) = {n \\choose i}p^i*(1-p)^{n - i} $"
   ]
  },
  {
   "cell_type": "markdown",
   "metadata": {},
   "source": [
    "> $ p(X = 6) = {20 \\choose 6} .2^6*(.8)^{14}$"
   ]
  },
  {
   "cell_type": "code",
   "execution_count": 3,
   "metadata": {},
   "outputs": [
    {
     "data": {
      "text/plain": [
       "0.1090997009730504"
      ]
     },
     "execution_count": 3,
     "metadata": {},
     "output_type": "execute_result"
    }
   ],
   "source": [
    "38760*.2**6*.8**14"
   ]
  },
  {
   "cell_type": "markdown",
   "metadata": {},
   "source": [
    "What type of probability distribution would be useful for answering this question?"
   ]
  },
  {
   "cell_type": "markdown",
   "metadata": {},
   "source": [
    "binomial"
   ]
  },
  {
   "cell_type": "markdown",
   "metadata": {},
   "source": [
    "On day one, the bank's platinum campaign went on a bit of a cold streak.  It's first signup occurred when the fifteenth customer walked through the door.  \n",
    "\n",
    "Given that probability of a signup is still .2, what is the probability that the first signup occurs on the fifteenth attempt?"
   ]
  },
  {
   "cell_type": "markdown",
   "metadata": {},
   "source": [
    "> $ P(X = n) = (1 - p)^{n -1} p $"
   ]
  },
  {
   "cell_type": "code",
   "execution_count": null,
   "metadata": {},
   "outputs": [],
   "source": [
    "P(X = 15) = (.8)^14(.2)"
   ]
  },
  {
   "cell_type": "code",
   "execution_count": 5,
   "metadata": {},
   "outputs": [
    {
     "data": {
      "text/plain": [
       "0.008796093022208008"
      ]
     },
     "execution_count": 5,
     "metadata": {},
     "output_type": "execute_result"
    }
   ],
   "source": [
    ".2*.8**14"
   ]
  },
  {
   "cell_type": "markdown",
   "metadata": {},
   "source": [
    "What probability distribution should be used to estimate the probability of the first success occurring on the nth trial?"
   ]
  },
  {
   "cell_type": "code",
   "execution_count": null,
   "metadata": {},
   "outputs": [],
   "source": [
    "geometric"
   ]
  },
  {
   "cell_type": "markdown",
   "metadata": {},
   "source": [
    "Now assume that the number of people who signup for a platinum account is normally distributed.  Remember that the original probability that someone signs up for a platinum account is .2.  \n",
    "\n",
    "The branch manager, disappointed with that performance, decides to attempt to sell the product himself.  He pitches to 200 customers over the next two days.  And signs up 100 customers for the platinum account.  \n",
    "\n",
    "What metric could we use to calculate the probability of this number of signups was due to chance (that is, the underlying probability of a signup did not change)."
   ]
  },
  {
   "cell_type": "markdown",
   "metadata": {},
   "source": [
    "> Remember from here we can calculate the standard deviation using the formula $sd = np(1 - p )$"
   ]
  },
  {
   "cell_type": "markdown",
   "metadata": {},
   "source": [
    "Calculate the metric that shows the strength of evidence of whether the probability of a signup is greater with the manager selling."
   ]
  },
  {
   "cell_type": "markdown",
   "metadata": {},
   "source": [
    "> What is the null hypothesis\n",
    "h_0 = p(x) = .2\n",
    "\n",
    "> What is the alternative hypothesis\n",
    "\n",
    "h_1 = p(x) > .2\n",
    "\n",
    "E[X] = 40\n",
    "sd = np(1 - p) = 40*.8 = 32"
   ]
  },
  {
   "cell_type": "markdown",
   "metadata": {},
   "source": [
    "100 - 40/32 = 60/32 =1 - .96 = .04\n",
    "\n",
    "* So with an alpha of .05, we can reject the null hypothesis that there is no difference between the manager and the original probability."
   ]
  },
  {
   "cell_type": "markdown",
   "metadata": {},
   "source": [
    "# Defend the safe"
   ]
  },
  {
   "cell_type": "markdown",
   "metadata": {},
   "source": [
    "Sometimes people steal from banks.  Theft can occur either in person or online.  As a banker, we only care about it if over 100k in assets are stolen, which we'll label an legit theft.  \n",
    "\n",
    "Assume that 3 legit thefts occur every three months.  What is the probability that 7 legit thefts in three months? "
   ]
  },
  {
   "cell_type": "markdown",
   "metadata": {},
   "source": [
    "$p(K = k) = \\frac{\\lambda^k e^{-\\lambda}}{k!}$"
   ]
  },
  {
   "cell_type": "markdown",
   "metadata": {},
   "source": [
    "P(K = 7) = 3**7 *e**-3/3!"
   ]
  },
  {
   "cell_type": "code",
   "execution_count": 9,
   "metadata": {},
   "outputs": [],
   "source": [
    "import numpy as np\n",
    "import matplotlib.pyplot as plt\n",
    "import math\n"
   ]
  },
  {
   "cell_type": "code",
   "execution_count": 12,
   "metadata": {},
   "outputs": [
    {
     "data": {
      "text/plain": [
       "108.88431852051845"
      ]
     },
     "execution_count": 12,
     "metadata": {},
     "output_type": "execute_result"
    }
   ],
   "source": [
    "3**7*np.exp(-3)"
   ]
  },
  {
   "cell_type": "code",
   "execution_count": 14,
   "metadata": {},
   "outputs": [
    {
     "data": {
      "text/plain": [
       "5040"
      ]
     },
     "execution_count": 14,
     "metadata": {},
     "output_type": "execute_result"
    }
   ],
   "source": [
    "math.factorial(7)"
   ]
  },
  {
   "cell_type": "code",
   "execution_count": 15,
   "metadata": {},
   "outputs": [
    {
     "data": {
      "text/plain": [
       "0.021603174603174603"
      ]
     },
     "execution_count": 15,
     "metadata": {},
     "output_type": "execute_result"
    }
   ],
   "source": [
    "108.88/5040"
   ]
  },
  {
   "cell_type": "markdown",
   "metadata": {},
   "source": [
    "What distribution did you use?"
   ]
  },
  {
   "cell_type": "code",
   "execution_count": null,
   "metadata": {},
   "outputs": [],
   "source": [
    "Poisson"
   ]
  }
 ],
 "metadata": {
  "kernelspec": {
   "display_name": "Python 3",
   "language": "python",
   "name": "python3"
  },
  "language_info": {
   "codemirror_mode": {
    "name": "ipython",
    "version": 3
   },
   "file_extension": ".py",
   "mimetype": "text/x-python",
   "name": "python",
   "nbconvert_exporter": "python",
   "pygments_lexer": "ipython3",
   "version": "3.5.5"
  }
 },
 "nbformat": 4,
 "nbformat_minor": 2
}
